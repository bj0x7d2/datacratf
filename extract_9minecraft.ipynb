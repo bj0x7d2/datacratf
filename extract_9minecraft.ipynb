{
 "cells": [
  {
   "cell_type": "markdown",
   "id": "e7584598",
   "metadata": {},
   "source": [
    "### Deps"
   ]
  },
  {
   "cell_type": "code",
   "execution_count": null,
   "id": "21575bb8",
   "metadata": {},
   "outputs": [],
   "source": [
    "import re\n",
    "import requests\n",
    "import random\n",
    "import time\n",
    "import pandas as pd\n",
    "import csv\n",
    "from bs4 import BeautifulSoup"
   ]
  },
  {
   "cell_type": "markdown",
   "id": "e128a08f",
   "metadata": {},
   "source": [
    "### Extração dos links"
   ]
  },
  {
   "cell_type": "code",
   "execution_count": null,
   "id": "4a405ac0",
   "metadata": {},
   "outputs": [],
   "source": [
    "def sleep_random(min_ms=10, max_ms=2000):\n",
    "    tempo_ms = random.randint(min_ms, max_ms)\n",
    "    time.sleep(tempo_ms / 1000)"
   ]
  },
  {
   "cell_type": "code",
   "execution_count": null,
   "id": "458a628b",
   "metadata": {},
   "outputs": [],
   "source": [
    "def get_soup_nav(page) -> BeautifulSoup:\n",
    "        url = \"https://www.9minecraft.net/category/minecraft-mods/page/{}/\".format(page)\n",
    "        response = requests.get(url)\n",
    "\n",
    "        if response.status_code == 200:\n",
    "            return BeautifulSoup(response.text, 'html.parser')\n",
    "        \n",
    "        print(\"Failed to retrieve page {}: {}\".format(page, response.status_code))\n",
    "        return None"
   ]
  },
  {
   "cell_type": "code",
   "execution_count": null,
   "id": "3e6c7f39",
   "metadata": {},
   "outputs": [],
   "source": [
    "def get_links(soup: BeautifulSoup) -> list:\n",
    "    filtered_links = []\n",
    "    for div in soup.find_all('div', class_='thumbindex'):\n",
    "        a_tag = div.find('a', href=True)\n",
    "        if a_tag and a_tag['href'].startswith('https://www.9minecraft.net/'):\n",
    "            filtered_links.append(a_tag['href'])\n",
    "    return filtered_links"
   ]
  },
  {
   "cell_type": "code",
   "execution_count": null,
   "id": "20816c95",
   "metadata": {},
   "outputs": [],
   "source": [
    "def get_all_links() -> list:\n",
    "    page = 1\n",
    "    all_links = []\n",
    "\n",
    "    while True:\n",
    "        sleep_random()\n",
    "\n",
    "        soup = get_soup_nav(page)\n",
    "        if soup is None:\n",
    "            break\n",
    "\n",
    "        filtered_links = get_links(soup)\n",
    "\n",
    "        if not filtered_links:\n",
    "            print(\"No more links found on page {}\".format(page))\n",
    "            continue\n",
    "        else:\n",
    "            print(\"Found {} links on page {}\".format(len(filtered_links), page))\n",
    "        \n",
    "        all_links.extend(filtered_links)\n",
    "\n",
    "        if page == 2:\n",
    "            print(\"Stopping after 2 pages.\")\n",
    "            break\n",
    "\n",
    "        page += 1\n",
    "    return all_links"
   ]
  },
  {
   "cell_type": "markdown",
   "id": "9af4057a",
   "metadata": {},
   "source": [
    "### Extração dos meta-dados"
   ]
  },
  {
   "cell_type": "code",
   "execution_count": null,
   "id": "b5feee25",
   "metadata": {},
   "outputs": [],
   "source": [
    "def get_soup_mod(link) -> BeautifulSoup:\n",
    "    url = link\n",
    "    response = requests.get(url)\n",
    "    if response.status_code == 200:\n",
    "        return BeautifulSoup(response.text, 'html.parser')\n",
    "    \n",
    "    print(\"Failed to retrieve mod page: {}, link {}\".format(response.status_code, link))\n",
    "    return None"
   ]
  },
  {
   "cell_type": "code",
   "execution_count": null,
   "id": "df814529",
   "metadata": {},
   "outputs": [],
   "source": [
    "def clean_line_breaks(text):\n",
    "    if text:\n",
    "        return text.replace('\\n', ' ').replace('\\r', ' ').strip()\n",
    "    return \"\""
   ]
  },
  {
   "cell_type": "code",
   "execution_count": null,
   "id": "ed71cb3c",
   "metadata": {},
   "outputs": [],
   "source": [
    "def get_headers(soup: BeautifulSoup) -> dict:\n",
    "    h1_tag = soup.find('h1')\n",
    "    return h1_tag.text.strip() if h1_tag else None"
   ]
  },
  {
   "cell_type": "code",
   "execution_count": null,
   "id": "4ce677f1",
   "metadata": {},
   "outputs": [],
   "source": [
    "def get_description(soup: BeautifulSoup) -> dict:\n",
    "    description = soup.find('div', class_='postContent')\n",
    "    return clean_line_breaks(description.text.strip() if description else None)"
   ]
  },
  {
   "cell_type": "code",
   "execution_count": null,
   "id": "94f034ef",
   "metadata": {},
   "outputs": [],
   "source": [
    "def get_author(soup: BeautifulSoup) -> dict:\n",
    "    external_author = soup.find('span', class_='post-author')\n",
    "    author = external_author.find('span').text.strip() if external_author else \"\"\n",
    "    return author if author else None"
   ]
  },
  {
   "cell_type": "code",
   "execution_count": null,
   "id": "139f91fc",
   "metadata": {},
   "outputs": [],
   "source": [
    "def get_date_published(soup: BeautifulSoup) -> dict:\n",
    "    date_published = soup.find('span', class_='post-time')\n",
    "    return date_published.text.strip() if date_published else None"
   ]
  },
  {
   "cell_type": "code",
   "execution_count": null,
   "id": "eb5c930c",
   "metadata": {},
   "outputs": [],
   "source": [
    "def get_views(soup: BeautifulSoup) -> dict:\n",
    "    views = soup.find('span',class_='post_view')\n",
    "    return views.text.strip() if views else None"
   ]
  },
  {
   "cell_type": "code",
   "execution_count": null,
   "id": "4033ac67",
   "metadata": {},
   "outputs": [],
   "source": [
    "def get_version(name):\n",
    "    version = re.search(r'\\((.*?)\\)', name.strip())\n",
    "    # If found, store the version; otherwise, return None\n",
    "    if version:\n",
    "        version = version.group(1)\n",
    "    else:\n",
    "        version = None\n",
    "    return version.strip() if version else None"
   ]
  },
  {
   "cell_type": "code",
   "execution_count": null,
   "id": "315fdaca",
   "metadata": {},
   "outputs": [],
   "source": [
    "def get_category(soup: BeautifulSoup) -> dict:\n",
    "    breadcrumb = soup.find('p', id='breadcrumbs')\n",
    "    category = breadcrumb.find_all('a')[1].text\n",
    "    return category.strip() if category else None"
   ]
  },
  {
   "cell_type": "code",
   "execution_count": null,
   "id": "d99e7a84",
   "metadata": {},
   "outputs": [],
   "source": [
    "def get_tags(soup: BeautifulSoup) -> dict:\n",
    "    tags_h3 = soup.find('h3', string='Tags:')\n",
    "    posttags_div = tags_h3.find_next('div', class_='posttags')\n",
    "    tags = [a.text for a in posttags_div.find_all('a')]\n",
    "    return tags if tags else None"
   ]
  },
  {
   "cell_type": "code",
   "execution_count": null,
   "id": "8e2cf7fc",
   "metadata": {},
   "outputs": [],
   "source": [
    "def get_modloader(soup: BeautifulSoup) -> dict:\n",
    "    mod_type_span = soup.find('span', class_='post-mod-type')\n",
    "    if mod_type_span:\n",
    "        links = mod_type_span.find_all('a')\n",
    "        mod_types = [a.text for a in links]\n",
    "        return mod_types if mod_types else None\n",
    "    return None"
   ]
  },
  {
   "cell_type": "code",
   "execution_count": null,
   "id": "1b92ee10",
   "metadata": {},
   "outputs": [],
   "source": [
    "def get_amount_updates(soup: BeautifulSoup) -> dict:\n",
    "    h2 = soup.find('h2', string=lambda text: text and 'Download Links' in text)\n",
    "    stop_div = soup.find('div', class_='yasr-auto-insert-visitor') # Pega o div de parada\n",
    "\n",
    "    current = h2 # Coleta tudo entre o h2 e o div de parada\n",
    "    h4_count = 0\n",
    "\n",
    "    while current and current != stop_div:\n",
    "        current = current.find_next()\n",
    "        if current.name == 'h4':\n",
    "            h4_count += 1\n",
    "    return h4_count if h4_count else None"
   ]
  },
  {
   "cell_type": "code",
   "execution_count": null,
   "id": "6dbe1a13",
   "metadata": {},
   "outputs": [],
   "source": [
    "def get_dependencies(soup: BeautifulSoup) -> dict:\n",
    "    requires = soup.find('h3', string='Requires:')\n",
    "    blockquote = requires.find_next('blockquote')\n",
    "    links = blockquote.find_all('a')\n",
    "    dependencias = set()\n",
    "\n",
    "    for link in links:\n",
    "        dependencias.add(link.text)\n",
    "    \n",
    "    return dependencias if dependencias else None"
   ]
  },
  {
   "cell_type": "code",
   "execution_count": null,
   "id": "200602db",
   "metadata": {},
   "outputs": [],
   "source": [
    "def get_link(soup: BeautifulSoup) -> dict:\n",
    "    link_canonical = soup.find('link', rel='canonical')\n",
    "    link = link_canonical['href'] if link_canonical else \"\"\n",
    "    return link.strip() if link else None"
   ]
  },
  {
   "cell_type": "code",
   "execution_count": null,
   "id": "e56ee4b4",
   "metadata": {},
   "outputs": [],
   "source": [
    "def get_data_mod(soup: BeautifulSoup) -> dict:\n",
    "    data = {'name': '',\n",
    "            'description': '',\n",
    "            'author': '',\n",
    "            'date_published': '',\n",
    "            'date_updated': 0,\n",
    "            'downloads': 0,\n",
    "            'views': '',\n",
    "            'version': '',\n",
    "            'category': '',\n",
    "            'tags': [],\n",
    "            'modloader': '',\n",
    "            'amount_updates': '',\n",
    "            'size': 0,\n",
    "            'dependencies': [],\n",
    "            'link': [],\n",
    "            'source':'9minecraft.net'}\n",
    "    \n",
    "    data['name'] = get_headers(soup)\n",
    "    data['description'] = get_description(soup)\n",
    "    data['author'] = get_author(soup)\n",
    "    data['date_published'] = get_date_published(soup)\n",
    "    data['views'] = get_views(soup)\n",
    "    data['version'] = get_version(data['name'])\n",
    "    data['category'] = get_category(soup)\n",
    "    data['tags'] = get_tags(soup)\n",
    "    data['modloader'] = get_modloader(soup)\n",
    "    data['amount_updates'] = get_amount_updates(soup)\n",
    "    data['dependencies'] = get_dependencies(soup)\n",
    "    data['link'] = get_link(soup)\n",
    "\n",
    "    #print(\"Name: {}\".format(data['name']))\n",
    "    #print(\"Description: {}\".format(data['description']))\n",
    "    #print(\"Author: {}\".format(data['author']))\n",
    "    #print(\"Date Published: {}\".format(data['date_published']))\n",
    "    #print(\"Version: {}\".format(data['version']))\n",
    "    #print(\"Category: {}\".format(data['category']))\n",
    "    #print(\"Tags: {}\".format(data['tags']))\n",
    "    #print(\"Modloaders: {}\".format(data['modloader']))\n",
    "    #print(\"Amount Updates: {}\".format(data['amount_updates']))\n",
    "    #print(\"Dependencies: {}\".format(data['dependencies']))\n",
    "    #print(\"Link: {}\".format(data['link']))\n",
    "    return data"
   ]
  },
  {
   "cell_type": "code",
   "execution_count": null,
   "id": "c9147131",
   "metadata": {},
   "outputs": [],
   "source": [
    "def get_data_9_minecraft() -> pd.DataFrame:\n",
    "    links = get_all_links()\n",
    "    mods = []\n",
    "    for link in links:\n",
    "        sleep_random(0, 500)\n",
    "        soup = get_soup_mod(link)\n",
    "        if soup is None:\n",
    "            continue\n",
    "\n",
    "        data = get_data_mod(soup)\n",
    "        if data is None:\n",
    "            continue\n",
    "        mods.append(data)\n",
    "    \n",
    "    df = pd.DataFrame(mods)\n",
    "    return df"
   ]
  },
  {
   "cell_type": "code",
   "execution_count": null,
   "id": "aa9372a8",
   "metadata": {},
   "outputs": [],
   "source": [
    "df = get_data_9_minecraft()\n",
    "\n",
    "df.to_csv('extract_9minecraft.csv', index=False, encoding='utf-8')"
   ]
  }
 ],
 "metadata": {
  "kernelspec": {
   "display_name": "venv",
   "language": "python",
   "name": "python3"
  },
  "language_info": {
   "codemirror_mode": {
    "name": "ipython",
    "version": 3
   },
   "file_extension": ".py",
   "mimetype": "text/x-python",
   "name": "python",
   "nbconvert_exporter": "python",
   "pygments_lexer": "ipython3",
   "version": "3.12.4"
  }
 },
 "nbformat": 4,
 "nbformat_minor": 5
}
