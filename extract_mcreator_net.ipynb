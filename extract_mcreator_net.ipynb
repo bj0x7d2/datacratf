{
 "cells": [
  {
   "cell_type": "markdown",
   "id": "e7584598",
   "metadata": {},
   "source": [
    "### Deps"
   ]
  },
  {
   "cell_type": "code",
   "execution_count": null,
   "id": "21575bb8",
   "metadata": {},
   "outputs": [],
   "source": [
    "import re\n",
    "import requests\n",
    "import random\n",
    "import time\n",
    "import pandas as pd\n",
    "from bs4 import BeautifulSoup"
   ]
  },
  {
   "cell_type": "markdown",
   "id": "e128a08f",
   "metadata": {},
   "source": [
    "### Extração dos links"
   ]
  },
  {
   "cell_type": "code",
   "execution_count": null,
   "id": "4a405ac0",
   "metadata": {},
   "outputs": [],
   "source": [
    "def sleep_random(min_ms=10, max_ms=2000):\n",
    "    tempo_ms = random.randint(min_ms, max_ms)\n",
    "    time.sleep(tempo_ms / 1000)"
   ]
  },
  {
   "cell_type": "code",
   "execution_count": null,
   "id": "458a628b",
   "metadata": {},
   "outputs": [],
   "source": [
    "def get_soup_nav(page) -> BeautifulSoup:\n",
    "        url = \"https://mcreator.net/modifications?page={}#google_vignette\".format(page)\n",
    "        response = requests.get(url)\n",
    "\n",
    "        if response.status_code == 200:\n",
    "            return BeautifulSoup(response.text, 'html.parser')\n",
    "        \n",
    "        print(\"Failed to retrieve page {}: {}\".format(page, response.status_code))\n",
    "        return None"
   ]
  },
  {
   "cell_type": "code",
   "execution_count": null,
   "id": "3e6c7f39",
   "metadata": {},
   "outputs": [],
   "source": [
    "def get_links(soup: BeautifulSoup) -> list:\n",
    "    links = []\n",
    "    for link in soup.find_all('a'):\n",
    "        href = link.get('href')\n",
    "        if href:\n",
    "            links.append(href)\n",
    "    return links"
   ]
  },
  {
   "cell_type": "code",
   "execution_count": null,
   "id": "20816c95",
   "metadata": {},
   "outputs": [],
   "source": [
    "def get_all_links() -> list:\n",
    "    page = 1\n",
    "    all_links = []\n",
    "\n",
    "    while True:\n",
    "        sleep_random()\n",
    "\n",
    "        soup = get_soup_nav(page)\n",
    "        if soup is None:\n",
    "            break\n",
    "\n",
    "        links = get_links(soup)\n",
    "\n",
    "        pattern = re.compile(r'.*modification/\\d+/.*', re.IGNORECASE)\n",
    "        filtered_links = [link for link in links if pattern.match(link)]\n",
    "\n",
    "        if not filtered_links:\n",
    "            print(\"No more links found on page {}\".format(page))\n",
    "            continue\n",
    "        else:\n",
    "            print(\"Found {} links on page {}\".format(len(filtered_links), page))\n",
    "        \n",
    "        all_links.extend(filtered_links)\n",
    "\n",
    "        if page == 2:\n",
    "            print(\"Stopping after 2 pages.\")\n",
    "            break\n",
    "\n",
    "        page += 1\n",
    "    return all_links"
   ]
  },
  {
   "cell_type": "markdown",
   "id": "9af4057a",
   "metadata": {},
   "source": [
    "### Extração dos meta-dados"
   ]
  },
  {
   "cell_type": "code",
   "execution_count": null,
   "id": "b5feee25",
   "metadata": {},
   "outputs": [],
   "source": [
    "def get_soup_mod(link) -> BeautifulSoup:\n",
    "    url = \"https://mcreator.net\" + link\n",
    "    response = requests.get(url)\n",
    "    if response.status_code == 200:\n",
    "        return BeautifulSoup(response.text, 'html.parser')\n",
    "    \n",
    "    print(\"Failed to retrieve mod page: {}, link {}\".format(response.status_code, link))\n",
    "    return None"
   ]
  },
  {
   "cell_type": "code",
   "execution_count": null,
   "id": "ed71cb3c",
   "metadata": {},
   "outputs": [],
   "source": [
    "def get_name(soup: BeautifulSoup) -> str:\n",
    "    h1_tag = soup.find('h1')\n",
    "    return h1_tag.text.strip() if h1_tag else None"
   ]
  },
  {
   "cell_type": "code",
   "execution_count": null,
   "id": "da66693a",
   "metadata": {},
   "outputs": [],
   "source": [
    "def get_description(soup: BeautifulSoup) -> str:\n",
    "    pass"
   ]
  },
  {
   "cell_type": "code",
   "execution_count": null,
   "id": "3fd8bb5c",
   "metadata": {},
   "outputs": [],
   "source": [
    "def get_author(soup: BeautifulSoup) -> str:\n",
    "    pass"
   ]
  },
  {
   "cell_type": "code",
   "execution_count": null,
   "id": "9273a31a",
   "metadata": {},
   "outputs": [],
   "source": [
    "def get_date_published(soup: BeautifulSoup) -> str:\n",
    "    pass"
   ]
  },
  {
   "cell_type": "code",
   "execution_count": null,
   "id": "bd70297d",
   "metadata": {},
   "outputs": [],
   "source": [
    "def get_date_updated(soup: BeautifulSoup) -> str:\n",
    "    pass"
   ]
  },
  {
   "cell_type": "code",
   "execution_count": null,
   "id": "2206e5c2",
   "metadata": {},
   "outputs": [],
   "source": [
    "def get_downloads(soup: BeautifulSoup) -> int:\n",
    "    pass"
   ]
  },
  {
   "cell_type": "code",
   "execution_count": null,
   "id": "9198a55f",
   "metadata": {},
   "outputs": [],
   "source": [
    "def get_views(soup: BeautifulSoup) -> int:\n",
    "    pass"
   ]
  },
  {
   "cell_type": "code",
   "execution_count": null,
   "id": "99255015",
   "metadata": {},
   "outputs": [],
   "source": [
    "def get_version(soup: BeautifulSoup) -> str:\n",
    "    pass"
   ]
  },
  {
   "cell_type": "code",
   "execution_count": null,
   "id": "29a59583",
   "metadata": {},
   "outputs": [],
   "source": [
    "def get_category(soup: BeautifulSoup) -> str:\n",
    "    pass\n"
   ]
  },
  {
   "cell_type": "code",
   "execution_count": null,
   "id": "b8a2020d",
   "metadata": {},
   "outputs": [],
   "source": [
    "def get_tags(soup: BeautifulSoup) -> list:\n",
    "    pass"
   ]
  },
  {
   "cell_type": "code",
   "execution_count": null,
   "id": "6775a850",
   "metadata": {},
   "outputs": [],
   "source": [
    "def get_modloader(soup: BeautifulSoup) -> str:\n",
    "    pass"
   ]
  },
  {
   "cell_type": "code",
   "execution_count": null,
   "id": "a1517ce5",
   "metadata": {},
   "outputs": [],
   "source": [
    "def get_amount_updates(soup: BeautifulSoup) -> int:\n",
    "    pass"
   ]
  },
  {
   "cell_type": "code",
   "execution_count": null,
   "id": "057029a9",
   "metadata": {},
   "outputs": [],
   "source": [
    "def get_size(soup: BeautifulSoup) -> float:\n",
    "    pass\n"
   ]
  },
  {
   "cell_type": "code",
   "execution_count": null,
   "id": "07d36dbc",
   "metadata": {},
   "outputs": [],
   "source": [
    "def get_dependencies(soup: BeautifulSoup) -> list:\n",
    "    pass"
   ]
  },
  {
   "cell_type": "code",
   "execution_count": null,
   "id": "15937446",
   "metadata": {},
   "outputs": [],
   "source": [
    "def get_links(soup: BeautifulSoup) -> list:\n",
    "    pass\n"
   ]
  },
  {
   "cell_type": "code",
   "execution_count": null,
   "id": "16696ad0",
   "metadata": {},
   "outputs": [],
   "source": [
    "def get_source(soup: BeautifulSoup) -> str:\n",
    "    pass"
   ]
  },
  {
   "cell_type": "code",
   "execution_count": null,
   "id": "e56ee4b4",
   "metadata": {},
   "outputs": [],
   "source": [
    "def get_data_mod(soup: BeautifulSoup) -> dict:\n",
    "    data = {'name': '',\n",
    "            'description': '',\n",
    "            'author': '',\n",
    "            'date_published': '',\n",
    "            'date_updated': '',\n",
    "            'downloads': 0,\n",
    "            'views': 0,\n",
    "            'version': '',\n",
    "            'category': '',\n",
    "            'tags': [],\n",
    "            'modloader': '',\n",
    "            'amount_updates': 0,\n",
    "            'size': 0,\n",
    "            'dependencies': [],\n",
    "            'link': [],\n",
    "            'source':''}\n",
    "    \n",
    "    data['name'] = get_name(soup)\n",
    "    data['description'] = get_description(soup)\n",
    "    data['author'] = get_author(soup)\n",
    "    data['date_published'] = get_date_published(soup)\n",
    "    data['date_updated'] = get_date_updated(soup)\n",
    "    data['downloads'] = get_downloads(soup)\n",
    "    data['views'] = get_views(soup)\n",
    "    data['version'] = get_version(soup)\n",
    "    data['category'] = get_category(soup)\n",
    "    data['tags'] = get_tags(soup)\n",
    "    data['modloader'] = get_modloader(soup)\n",
    "    data['amount_updates'] = get_amount_updates(soup)\n",
    "    data['size'] = get_size(soup)\n",
    "    data['dependencies'] = get_dependencies(soup)\n",
    "    data['link'] = get_links(soup)\n",
    "    data['source'] = get_source(soup)\n",
    "\n",
    "    return data\n"
   ]
  },
  {
   "cell_type": "code",
   "execution_count": null,
   "id": "c9147131",
   "metadata": {},
   "outputs": [],
   "source": [
    "def get_data_mcreator_net(links) -> pd.DataFrame:\n",
    "    mods = []\n",
    "    for link in links:\n",
    "        sleep_random(0, 500)\n",
    "        soup = get_soup_mod(link)\n",
    "        if soup is None:\n",
    "            continue\n",
    "\n",
    "        data = get_data_mod(soup)\n",
    "        if data is None:\n",
    "            continue\n",
    "        mods.append(data)\n",
    "    \n",
    "    df = pd.DataFrame(mods)\n",
    "    return df"
   ]
  },
  {
   "cell_type": "code",
   "execution_count": null,
   "id": "7cdaa617",
   "metadata": {},
   "outputs": [],
   "source": [
    "links = get_all_links()"
   ]
  },
  {
   "cell_type": "code",
   "execution_count": null,
   "id": "aa9372a8",
   "metadata": {},
   "outputs": [],
   "source": [
    "df = get_data_mcreator_net(links)"
   ]
  }
 ],
 "metadata": {
  "kernelspec": {
   "display_name": ".venv",
   "language": "python",
   "name": "python3"
  },
  "language_info": {
   "codemirror_mode": {
    "name": "ipython",
    "version": 3
   },
   "file_extension": ".py",
   "mimetype": "text/x-python",
   "name": "python",
   "nbconvert_exporter": "python",
   "pygments_lexer": "ipython3",
   "version": "3.13.2"
  }
 },
 "nbformat": 4,
 "nbformat_minor": 5
}
