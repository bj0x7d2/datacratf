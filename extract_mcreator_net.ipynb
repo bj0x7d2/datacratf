{
 "cells": [
  {
   "cell_type": "markdown",
   "id": "e7584598",
   "metadata": {},
   "source": [
    "### Deps"
   ]
  },
  {
   "cell_type": "code",
   "execution_count": null,
   "id": "21575bb8",
   "metadata": {},
   "outputs": [],
   "source": [
    "import re\n",
    "import requests\n",
    "import random\n",
    "import time\n",
    "import pandas as pd\n",
    "from bs4 import BeautifulSoup"
   ]
  },
  {
   "cell_type": "markdown",
   "id": "e128a08f",
   "metadata": {},
   "source": [
    "### Extração dos links"
   ]
  },
  {
   "cell_type": "code",
   "execution_count": null,
   "id": "4a405ac0",
   "metadata": {},
   "outputs": [],
   "source": [
    "def sleep_random(min_ms=10, max_ms=2000):\n",
    "    tempo_ms = random.randint(min_ms, max_ms)\n",
    "    time.sleep(tempo_ms / 1000)"
   ]
  },
  {
   "cell_type": "code",
   "execution_count": null,
   "id": "458a628b",
   "metadata": {},
   "outputs": [],
   "source": [
    "def get_soup_nav(page) -> BeautifulSoup:\n",
    "        url = \"https://mcreator.net/modifications?page={}#google_vignette\".format(page)\n",
    "        response = requests.get(url)\n",
    "\n",
    "        if response.status_code == 200:\n",
    "            return BeautifulSoup(response.text, 'html.parser')\n",
    "        \n",
    "        print(\"Failed to retrieve page {}: {}\".format(page, response.status_code))\n",
    "        return None"
   ]
  },
  {
   "cell_type": "code",
   "execution_count": null,
   "id": "3e6c7f39",
   "metadata": {},
   "outputs": [],
   "source": [
    "def get_links(soup: BeautifulSoup) -> list:\n",
    "    links = []\n",
    "    for link in soup.find_all('a'):\n",
    "        href = link.get('href')\n",
    "        if href:\n",
    "            links.append(href)\n",
    "    return links"
   ]
  },
  {
   "cell_type": "code",
   "execution_count": null,
   "id": "20816c95",
   "metadata": {},
   "outputs": [],
   "source": [
    "def get_all_links() -> list:\n",
    "    page = 1\n",
    "    all_links = []\n",
    "\n",
    "    while True:\n",
    "        sleep_random()\n",
    "\n",
    "        soup = get_soup_nav(page)\n",
    "\n",
    "        if soup is None:\n",
    "            break\n",
    "\n",
    "        links = get_links(soup)\n",
    "        filtered_links = None\n",
    "        if links:\n",
    "            pattern = re.compile(r'.*modification/\\d+/.*', re.IGNORECASE)\n",
    "            filtered_links = [link for link in links if pattern.match(link)]\n",
    "        else:\n",
    "            print(\"No links found on page {}\".format(page))\n",
    "\n",
    "        if not filtered_links:\n",
    "            print(\"No more links found on page {}\".format(page))\n",
    "        else:\n",
    "            print(\"Found {} links on page {}\".format(len(filtered_links), page))\n",
    "            all_links.extend(filtered_links)\n",
    "\n",
    "        if page == 1:\n",
    "            print(\"Stopping after 2 pages.\")\n",
    "            break\n",
    "        page += 1\n",
    "    return all_links"
   ]
  },
  {
   "cell_type": "markdown",
   "id": "9af4057a",
   "metadata": {},
   "source": [
    "### Extração dos meta-dados"
   ]
  },
  {
   "cell_type": "code",
   "execution_count": null,
   "id": "b5feee25",
   "metadata": {},
   "outputs": [],
   "source": [
    "def get_soup_mod(link) -> BeautifulSoup:\n",
    "    url = \"https://mcreator.net\" + link\n",
    "    response = requests.get(url)\n",
    "    if response.status_code == 200:\n",
    "        return BeautifulSoup(response.text, 'html.parser')\n",
    "    \n",
    "    print(\"Failed to retrieve mod page: {}, link {}\".format(response.status_code, link))\n",
    "    return None"
   ]
  },
  {
   "cell_type": "markdown",
   "id": "46631c84",
   "metadata": {},
   "source": [
    "#### Funções de extração de atributos"
   ]
  },
  {
   "cell_type": "code",
   "execution_count": null,
   "id": "ed71cb3c",
   "metadata": {},
   "outputs": [],
   "source": [
    "def get_name(soup: BeautifulSoup) -> str:\n",
    "    h1_tag = soup.find('h1')\n",
    "    return h1_tag.text.strip() if h1_tag else None"
   ]
  },
  {
   "cell_type": "code",
   "execution_count": null,
   "id": "da66693a",
   "metadata": {},
   "outputs": [],
   "source": [
    "def get_description(soup: BeautifulSoup) -> str:\n",
    "    div = soup.find('div', class_=lambda x: x and 'field--name-body' in x)\n",
    "    text = div.get_text(strip=True) if div else ''\n",
    "    return text"
   ]
  },
  {
   "cell_type": "code",
   "execution_count": null,
   "id": "3fd8bb5c",
   "metadata": {},
   "outputs": [],
   "source": [
    "def get_author_and_date_published(soup: BeautifulSoup) -> tuple:\n",
    "    footer = soup.find('footer')\n",
    "    if not footer:\n",
    "        return ('', '')\n",
    "    \n",
    "    author_tag = footer.find('a')\n",
    "    time_tag = footer.find('time')\n",
    "\n",
    "    author = author_tag['href'] if author_tag and author_tag.has_attr('href') else ''\n",
    "    date_published = time_tag['datetime'] if time_tag and time_tag.has_attr('datetime') else ''\n",
    "\n",
    "    return (author, date_published)"
   ]
  },
  {
   "cell_type": "code",
   "execution_count": null,
   "id": "bd70297d",
   "metadata": {},
   "outputs": [],
   "source": [
    "def get_date_updated_and_size(soup: BeautifulSoup) -> tuple:\n",
    "    updates_section = soup.find('div', class_=lambda x: x and 'field--name-field-modification-file' in x)\n",
    "    if not updates_section:\n",
    "        return ('', 0)\n",
    "    \n",
    "    first_item = updates_section.find('div', class_='field--item')\n",
    "    if not first_item:\n",
    "        return ('', 0)\n",
    "    \n",
    "    file_size_tag = first_item.find('span', class_='file-size')\n",
    "    upload_date = ''\n",
    "    file_size = 0\n",
    "    \n",
    "    if file_size_tag:\n",
    "        text = file_size_tag.text.strip()\n",
    "        if 'Uploaded on:' in text and 'File size:' in text:\n",
    "            parts = text.split('File size:')\n",
    "            upload_date = parts[0].replace('Uploaded on:', '').strip()\n",
    "            file_size = parts[1].strip()\n",
    "    \n",
    "    return (upload_date, file_size)"
   ]
  },
  {
   "cell_type": "code",
   "execution_count": null,
   "id": "2206e5c2",
   "metadata": {},
   "outputs": [],
   "source": [
    "def get_downloads(soup: BeautifulSoup) -> int:\n",
    "    downloads_div = soup.find('div', class_=lambda x: x and 'field--name-field-download-count' in x)\n",
    "    if not downloads_div:\n",
    "        return 0\n",
    "\n",
    "    count_div = downloads_div.find('div', class_='field--item')\n",
    "    \n",
    "    if count_div:\n",
    "        try:\n",
    "            return int(count_div.text.strip())\n",
    "        except ValueError:\n",
    "            return 0\n",
    "    return 0"
   ]
  },
  {
   "cell_type": "code",
   "execution_count": null,
   "id": "99255015",
   "metadata": {},
   "outputs": [],
   "source": [
    "def get_version(soup: BeautifulSoup) -> str:\n",
    "    version_div = soup.find('div', class_=lambda x: x and 'field--name-field-minecraft-version' in x)\n",
    "    if not version_div:\n",
    "        return ''\n",
    "    \n",
    "    item_div = version_div.find('div', class_='field--item')\n",
    "    return item_div.text.strip() if item_div else ''\n"
   ]
  },
  {
   "cell_type": "code",
   "execution_count": null,
   "id": "29a59583",
   "metadata": {},
   "outputs": [],
   "source": [
    "def get_category(soup: BeautifulSoup) -> str:\n",
    "    return 'mod'\n"
   ]
  },
  {
   "cell_type": "code",
   "execution_count": null,
   "id": "b8a2020d",
   "metadata": {},
   "outputs": [],
   "source": [
    "def get_tags(soup: BeautifulSoup) -> list:\n",
    "    category_div = soup.find('div', class_=lambda x: x and 'field--name-field-category' in x)\n",
    "    if not category_div:\n",
    "        return ''\n",
    "    \n",
    "    item_div = category_div.find('div', class_='field--item')\n",
    "    if not item_div:\n",
    "        return ''\n",
    "    \n",
    "    link = item_div.find('a')\n",
    "    return link.text.strip() if link else ''"
   ]
  },
  {
   "cell_type": "code",
   "execution_count": null,
   "id": "6775a850",
   "metadata": {},
   "outputs": [],
   "source": [
    "def get_modloader(soup: BeautifulSoup) -> str:\n",
    "    mod_type_div = soup.find('div', class_=lambda x: x and 'field--name-field-modification-type' in x)\n",
    "    if not mod_type_div:\n",
    "        return ''\n",
    "    \n",
    "    item_div = mod_type_div.find('div', class_='field--item')\n",
    "    link = item_div.find('a') if item_div else None\n",
    "    return link.text.strip() if link else ''"
   ]
  },
  {
   "cell_type": "code",
   "execution_count": null,
   "id": "e56ee4b4",
   "metadata": {},
   "outputs": [],
   "source": [
    "def get_data_mod(soup: BeautifulSoup) -> dict:\n",
    "    data = {'name': '',\n",
    "            'description': '',\n",
    "            'author': '',\n",
    "            'date_published': '',\n",
    "            'date_updated': '',\n",
    "            'downloads': 0,\n",
    "            'views': 0,\n",
    "            'version': '',\n",
    "            'category': '',\n",
    "            'tags': '',\n",
    "            'modloader': '',\n",
    "            'amount_updates': 0,\n",
    "            'size': '',\n",
    "            'dependencies': '',\n",
    "            'link': '',\n",
    "            'source':''}\n",
    "    \n",
    "    data['name'] = get_name(soup)\n",
    "    data['description'] = get_description(soup)\n",
    "\n",
    "    author, date_published = get_author_and_date_published(soup)\n",
    "    data['author'] = author\n",
    "    data['date_published'] = date_published\n",
    "    \n",
    "    date_updated, size = get_date_updated_and_size(soup)\n",
    "    data['date_updated'] = date_updated\n",
    "    data['size'] = size\n",
    "\n",
    "    data['downloads'] = get_downloads(soup)\n",
    "    \n",
    "    data['version'] = get_version(soup)\n",
    "    data['category'] = get_category(soup)\n",
    "    data['tags'] = get_tags(soup)\n",
    "    data['modloader'] = get_modloader(soup)\n",
    "\n",
    "    data['source'] = 'mcreator.net'\n",
    "\n",
    "    return data\n"
   ]
  },
  {
   "cell_type": "code",
   "execution_count": null,
   "id": "c9147131",
   "metadata": {},
   "outputs": [],
   "source": [
    "def get_data_mcreator_net(links) -> pd.DataFrame:\n",
    "    mods = []\n",
    "    for link in links:\n",
    "        sleep_random(0, 500)\n",
    "        \n",
    "        soup = get_soup_mod(link)\n",
    "        if soup is None:\n",
    "            continue\n",
    "\n",
    "        data = get_data_mod(soup)\n",
    "        if data is None:\n",
    "            continue\n",
    "        mods.append(data)\n",
    "    \n",
    "    df = pd.DataFrame(mods)\n",
    "    return df"
   ]
  },
  {
   "cell_type": "markdown",
   "id": "9fc5514f",
   "metadata": {},
   "source": [
    "### Extração"
   ]
  },
  {
   "cell_type": "code",
   "execution_count": null,
   "id": "7cdaa617",
   "metadata": {},
   "outputs": [],
   "source": [
    "links_mcreator_net = get_all_links()"
   ]
  },
  {
   "cell_type": "code",
   "execution_count": null,
   "id": "aa9372a8",
   "metadata": {},
   "outputs": [],
   "source": [
    "df = get_data_mcreator_net(links_mcreator_net)"
   ]
  }
 ],
 "metadata": {
  "kernelspec": {
   "display_name": ".venv",
   "language": "python",
   "name": "python3"
  },
  "language_info": {
   "codemirror_mode": {
    "name": "ipython",
    "version": 3
   },
   "file_extension": ".py",
   "mimetype": "text/x-python",
   "name": "python",
   "nbconvert_exporter": "python",
   "pygments_lexer": "ipython3",
   "version": "3.13.2"
  }
 },
 "nbformat": 4,
 "nbformat_minor": 5
}
