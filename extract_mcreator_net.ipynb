{
 "cells": [
  {
   "cell_type": "markdown",
   "id": "e7584598",
   "metadata": {},
   "source": [
    "### Deps"
   ]
  },
  {
   "cell_type": "code",
   "execution_count": null,
   "id": "21575bb8",
   "metadata": {},
   "outputs": [],
   "source": [
    "import re\n",
    "import requests\n",
    "import random\n",
    "import time\n",
    "import pandas as pd\n",
    "from bs4 import BeautifulSoup"
   ]
  },
  {
   "cell_type": "markdown",
   "id": "e128a08f",
   "metadata": {},
   "source": [
    "### Extração dos links"
   ]
  },
  {
   "cell_type": "code",
   "execution_count": null,
   "id": "4a405ac0",
   "metadata": {},
   "outputs": [],
   "source": [
    "def sleep_random(min_ms=10, max_ms=2000):\n",
    "    tempo_ms = random.randint(min_ms, max_ms)\n",
    "    time.sleep(tempo_ms / 1000)"
   ]
  },
  {
   "cell_type": "code",
   "execution_count": null,
   "id": "458a628b",
   "metadata": {},
   "outputs": [],
   "source": [
    "def get_soup_nav(page) -> BeautifulSoup:\n",
    "        url = \"https://mcreator.net/modifications?page={}#google_vignette\".format(page)\n",
    "        response = requests.get(url)\n",
    "\n",
    "        if response.status_code == 200:\n",
    "            return BeautifulSoup(response.text, 'html.parser')\n",
    "        \n",
    "        print(\"Failed to retrieve page {}: {}\".format(page, response.status_code))\n",
    "        return None"
   ]
  },
  {
   "cell_type": "code",
   "execution_count": null,
   "id": "3e6c7f39",
   "metadata": {},
   "outputs": [],
   "source": [
    "def get_links(soup: BeautifulSoup) -> list:\n",
    "    links = []\n",
    "    for link in soup.find_all('a'):\n",
    "        href = link.get('href')\n",
    "        if href:\n",
    "            links.append(href)\n",
    "    return links"
   ]
  },
  {
   "cell_type": "code",
   "execution_count": null,
   "id": "20816c95",
   "metadata": {},
   "outputs": [],
   "source": [
    "def get_all_links() -> list:\n",
    "    page = 1\n",
    "    all_links = []\n",
    "\n",
    "    while True:\n",
    "        sleep_random()\n",
    "\n",
    "        soup = get_soup_nav(page)\n",
    "        if soup is None:\n",
    "            break\n",
    "\n",
    "        links = get_links(soup)\n",
    "\n",
    "        pattern = re.compile(r'.*modification/\\d+/.*', re.IGNORECASE)\n",
    "        filtered_links = [link for link in links if pattern.match(link)]\n",
    "\n",
    "        if not filtered_links:\n",
    "            print(\"No more links found on page {}\".format(page))\n",
    "            continue\n",
    "        else:\n",
    "            print(\"Found {} links on page {}\".format(len(filtered_links), page))\n",
    "        \n",
    "        all_links.extend(filtered_links)\n",
    "\n",
    "        if page == 2:\n",
    "            print(\"Stopping after 2 pages.\")\n",
    "            break\n",
    "\n",
    "        page += 1\n",
    "    return all_links"
   ]
  },
  {
   "cell_type": "markdown",
   "id": "9af4057a",
   "metadata": {},
   "source": [
    "### Extração dos meta-dados"
   ]
  },
  {
   "cell_type": "code",
   "execution_count": null,
   "id": "b5feee25",
   "metadata": {},
   "outputs": [],
   "source": [
    "def get_soup_mod(link) -> BeautifulSoup:\n",
    "    url = \"https://mcreator.net\" + link\n",
    "    response = requests.get(url)\n",
    "    if response.status_code == 200:\n",
    "        return BeautifulSoup(response.text, 'html.parser')\n",
    "    \n",
    "    print(\"Failed to retrieve mod page: {}, link {}\".format(response.status_code, link))\n",
    "    return None"
   ]
  },
  {
   "cell_type": "code",
   "execution_count": null,
   "id": "ed71cb3c",
   "metadata": {},
   "outputs": [],
   "source": [
    "def get_headers(soup: BeautifulSoup) -> dict:\n",
    "    h1_tag = soup.find('h1')\n",
    "    return h1_tag.text.strip() if h1_tag else None"
   ]
  },
  {
   "cell_type": "code",
   "execution_count": null,
   "id": "e56ee4b4",
   "metadata": {},
   "outputs": [],
   "source": [
    "def get_data_mod(soup: BeautifulSoup) -> dict:\n",
    "    data = {'name': '',\n",
    "            'description': '',\n",
    "            'author': '',\n",
    "            'date_published': '',\n",
    "            'date_updated': '',\n",
    "            'downloads': 0,\n",
    "            'views': 0,\n",
    "            'version': '',\n",
    "            'category': '',\n",
    "            'tags': [],\n",
    "            'modloader': '',\n",
    "            'amount_updates': 0,\n",
    "            'size': 0,\n",
    "            'dependencies': [],\n",
    "            'link': [],\n",
    "            'source':''}\n",
    "    \n",
    "    data['name'] = get_headers(soup)\n",
    "    print(\"Name: {}\".format(data['name']))\n",
    "    return data"
   ]
  },
  {
   "cell_type": "code",
   "execution_count": null,
   "id": "c9147131",
   "metadata": {},
   "outputs": [],
   "source": [
    "def get_data_mcreator_net() -> pd.DataFrame:\n",
    "    links = get_all_links()\n",
    "    mods = []\n",
    "    for link in links:\n",
    "        sleep_random(0, 500)\n",
    "        soup = get_soup_mod(link)\n",
    "        if soup is None:\n",
    "            continue\n",
    "\n",
    "        data = get_data_mod(soup)\n",
    "        if data is None:\n",
    "            continue\n",
    "        mods.append(data)\n",
    "    \n",
    "    df = pd.DataFrame(mods)\n",
    "    return df"
   ]
  },
  {
   "cell_type": "code",
   "execution_count": null,
   "id": "aa9372a8",
   "metadata": {},
   "outputs": [],
   "source": [
    "df = get_data_mcreator_net()"
   ]
  }
 ],
 "metadata": {
  "kernelspec": {
   "display_name": ".venv",
   "language": "python",
   "name": "python3"
  },
  "language_info": {
   "codemirror_mode": {
    "name": "ipython",
    "version": 3
   },
   "file_extension": ".py",
   "mimetype": "text/x-python",
   "name": "python",
   "nbconvert_exporter": "python",
   "pygments_lexer": "ipython3",
   "version": "3.13.2"
  }
 },
 "nbformat": 4,
 "nbformat_minor": 5
}
